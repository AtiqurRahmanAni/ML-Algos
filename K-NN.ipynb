{
 "cells": [
  {
   "cell_type": "code",
   "execution_count": 44,
   "metadata": {},
   "outputs": [],
   "source": [
    "import numpy as np\n",
    "from sklearn import datasets\n",
    "from sklearn.model_selection import train_test_split\n",
    "from collections import Counter"
   ]
  },
  {
   "cell_type": "code",
   "execution_count": 45,
   "metadata": {},
   "outputs": [],
   "source": [
    "class KNN:\n",
    "    def __init__(self, n_neighbors=2):\n",
    "        self.n_neighbors = n_neighbors\n",
    "\n",
    "    def predict(self, X, y, queries):\n",
    "\n",
    "        y_preds = []\n",
    "        for query in queries:\n",
    "            # calculate distances from other points\n",
    "            distances = self._calculate_distance(X, query)\n",
    "\n",
    "            # find indexes of closest n_neighbors from the distances array\n",
    "            sorted_distance_idx = distances.argsort()\n",
    "            n_closest_distance_idx = sorted_distance_idx[:min(\n",
    "                self.n_neighbors, len(distances))]\n",
    "\n",
    "            # count the frequencies of classes from y and pick the most frequent class\n",
    "            labels = y[n_closest_distance_idx]\n",
    "            y_pred = Counter(labels).most_common(1)[0][0]\n",
    "            y_preds.append(y_pred)\n",
    "\n",
    "        return np.array(y_preds)\n",
    "\n",
    "    def _calculate_distance(self, X, query):\n",
    "        distances = []\n",
    "        for point in X:\n",
    "            #euclidean distance\n",
    "            distance = np.sqrt(np.sum(np.square(point - query)))\n",
    "            distances.append(distance)\n",
    "        \n",
    "        return np.array(distances)"
   ]
  },
  {
   "cell_type": "code",
   "execution_count": 46,
   "metadata": {},
   "outputs": [],
   "source": [
    "data = datasets.load_breast_cancer()\n",
    "X, y = data.data, data.target"
   ]
  },
  {
   "cell_type": "code",
   "execution_count": 47,
   "metadata": {},
   "outputs": [],
   "source": [
    "X_train, X_test, y_train, y_test = train_test_split(X, y, test_size=0.2, random_state=24)"
   ]
  },
  {
   "cell_type": "code",
   "execution_count": 48,
   "metadata": {},
   "outputs": [
    {
     "name": "stdout",
     "output_type": "stream",
     "text": [
      "Accuracy 0.9298245614035088, N neighbors: 2\n",
      "Accuracy 0.9473684210526315, N neighbors: 3\n",
      "Accuracy 0.956140350877193, N neighbors: 4\n",
      "Accuracy 0.956140350877193, N neighbors: 5\n",
      "Accuracy 0.956140350877193, N neighbors: 6\n",
      "Accuracy 0.956140350877193, N neighbors: 7\n",
      "Accuracy 0.956140350877193, N neighbors: 8\n",
      "Accuracy 0.956140350877193, N neighbors: 9\n",
      "\n",
      "Best accuracy 0.956140350877193, N neighbors 4\n"
     ]
    }
   ],
   "source": [
    "best_accuracy, optimal_n_neighbors = 0, 0\n",
    "\n",
    "for n_neighbors in range(2, 10):\n",
    "    clf = KNN(n_neighbors)\n",
    "    predictions = clf.predict(X_train, y_train, X_test)\n",
    "    accuracy = np.sum(predictions == y_test) / len(y_test)\n",
    "\n",
    "    print(f\"Accuracy {accuracy}, N neighbors: {n_neighbors}\")\n",
    "    \n",
    "    if accuracy > best_accuracy:\n",
    "        best_accuracy = accuracy\n",
    "        optimal_n_neighbors = n_neighbors\n",
    "\n",
    "print(f\"\\nBest accuracy {best_accuracy}, N neighbors {optimal_n_neighbors}\")"
   ]
  }
 ],
 "metadata": {
  "kernelspec": {
   "display_name": "venv",
   "language": "python",
   "name": "python3"
  },
  "language_info": {
   "codemirror_mode": {
    "name": "ipython",
    "version": 3
   },
   "file_extension": ".py",
   "mimetype": "text/x-python",
   "name": "python",
   "nbconvert_exporter": "python",
   "pygments_lexer": "ipython3",
   "version": "3.11.9"
  }
 },
 "nbformat": 4,
 "nbformat_minor": 2
}
