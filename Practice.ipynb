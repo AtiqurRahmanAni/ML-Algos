{
 "cells": [
  {
   "cell_type": "code",
   "execution_count": 2,
   "metadata": {},
   "outputs": [],
   "source": [
    "import numpy as np\n",
    "from collections import Counter\n",
    "from sklearn import datasets\n",
    "from sklearn.model_selection import train_test_split"
   ]
  },
  {
   "cell_type": "code",
   "execution_count": 36,
   "metadata": {},
   "outputs": [],
   "source": [
    "class Node:\n",
    "    def __init__(self, left=None, right=None, feature=None, threshold=None, value=None) -> None:\n",
    "        self.feature = feature\n",
    "        self.threshold = threshold\n",
    "        self.left = left\n",
    "        self.right = right\n",
    "        self.value = value\n",
    "\n",
    "    def is_leaf_node(self):\n",
    "        return self.value is not None"
   ]
  },
  {
   "cell_type": "code",
   "execution_count": 37,
   "metadata": {},
   "outputs": [],
   "source": [
    "class DecisionTree:\n",
    "    def __init__(self, n_features=None, max_depth=10, min_sample_split=2) -> None:\n",
    "        self.max_depth = max_depth\n",
    "        self.min_sample_split = min_sample_split\n",
    "        self.n_features = n_features\n",
    "        self.root = None\n",
    "\n",
    "    def fit(self, X, y):\n",
    "        self.n_features = X.shape[1]\n",
    "        self.root = self._grow_tree(X, y, depth=0)\n",
    "\n",
    "    def _grow_tree(self, X, y, depth):\n",
    "        \n",
    "        n_sample = len(y)\n",
    "        n_label = len(np.unique(y))\n",
    "        # termination condition\n",
    "        if depth > self.max_depth or n_sample < self.min_sample_split or n_label == 1:\n",
    "            # return leaf node\n",
    "            value = self._most_common_label(y)\n",
    "            return Node(value=value)\n",
    "        \n",
    "        # find the best split\n",
    "        features = np.random.choice(\n",
    "            self.n_features, self.n_features, replace=False)\n",
    "        feature_idx, threshold = self._best_split(X, y, features)\n",
    "\n",
    "        left_idx, right_idx = self._split(X, threshold, feature_idx)\n",
    "\n",
    "        left = self._grow_tree(X[left_idx, :], y[left_idx], depth + 1)\n",
    "        right = self._grow_tree(X[right_idx, :], y[right_idx], depth + 1)\n",
    "\n",
    "        return Node(left=left, right=right, feature=feature_idx, threshold=threshold)\n",
    "\n",
    "    \n",
    "    def _best_split(self, X, y, features):\n",
    "\n",
    "        # greedy search for finding the best feature and split value\n",
    "        best_gain = -1\n",
    "        best_feature_idx, best_threshold = None, None\n",
    "        for feature in features:\n",
    "            X_column = X[:, feature]\n",
    "            thresholds = np.unique(X_column)\n",
    "            for threshold in thresholds:\n",
    "                gain = self._information_gain(X, y, threshold, feature)\n",
    "\n",
    "                if gain > best_gain:\n",
    "                    best_gain = gain\n",
    "                    best_feature_idx = feature\n",
    "                    best_threshold = threshold\n",
    "\n",
    "        return best_feature_idx, best_threshold\n",
    "    \n",
    "    def _entropy(self, y):\n",
    "        hist = np.array(list(Counter(y).values()))\n",
    "        probabilities = hist / len(y)\n",
    "        return -np.sum(probabilities * np.log(probabilities))\n",
    "    \n",
    "    def _information_gain(self, X, y, threshold, feature_idx):\n",
    "        parent_entropy = self._entropy(y)\n",
    "\n",
    "        # create left and right child\n",
    "        left_idx, right_idx = self._split(X, threshold, feature_idx)\n",
    "\n",
    "        if len(left_idx) == 0 or len(right_idx) == 0:\n",
    "            return 0\n",
    "\n",
    "        n = len(y)\n",
    "        n_l, n_r = len(left_idx), len(right_idx)\n",
    "        e_l, e_r = self._entropy(y[left_idx]), self._entropy(y[right_idx])\n",
    "        child_entropy = (n_l / n) * e_l + (n_r / n) * e_r\n",
    "        return parent_entropy - child_entropy\n",
    "\n",
    "    def _split(self, X, threshold, feature_idx):\n",
    "        left_idx = np.argwhere(X[:, feature_idx] <= threshold).flatten()\n",
    "        right_idx = np.argwhere(X[:, feature_idx] > threshold).flatten()\n",
    "        return left_idx, right_idx\n",
    "    \n",
    "    def _most_common_label(self, y):\n",
    "        return Counter(y).most_common(1)[0][0]\n",
    "    \n",
    "    def predict(self, X):\n",
    "        return [self._traverse_tree(x, self.root) for x in X]\n",
    "\n",
    "    def _traverse_tree(self, x, node: Node):\n",
    "        if node.is_leaf_node():\n",
    "            return node.value\n",
    "        \n",
    "        if x[node.feature] <= node.threshold:\n",
    "            return self._traverse_tree(x, node.left)\n",
    "        return self._traverse_tree(x, node.right)"
   ]
  },
  {
   "cell_type": "code",
   "execution_count": 59,
   "metadata": {},
   "outputs": [],
   "source": [
    "data = datasets.load_breast_cancer()\n",
    "X, y = data.data, data.target"
   ]
  },
  {
   "cell_type": "code",
   "execution_count": 60,
   "metadata": {},
   "outputs": [],
   "source": [
    "X_train, X_test, y_train, y_test = train_test_split(X, y, test_size=0.20, random_state=24)"
   ]
  },
  {
   "cell_type": "code",
   "execution_count": 61,
   "metadata": {},
   "outputs": [],
   "source": [
    "clf = DecisionTree(max_depth=50)\n",
    "clf.fit(X_train, y_train)"
   ]
  },
  {
   "cell_type": "code",
   "execution_count": 62,
   "metadata": {},
   "outputs": [],
   "source": [
    "y_preds = clf.predict(X_test)"
   ]
  },
  {
   "cell_type": "code",
   "execution_count": 63,
   "metadata": {},
   "outputs": [
    {
     "name": "stdout",
     "output_type": "stream",
     "text": [
      "92.98245614035088\n"
     ]
    }
   ],
   "source": [
    "accuracy = np.sum(y_preds == y_test) / len(y_test) * 100\n",
    "print(accuracy)"
   ]
  }
 ],
 "metadata": {
  "kernelspec": {
   "display_name": "venv",
   "language": "python",
   "name": "python3"
  },
  "language_info": {
   "codemirror_mode": {
    "name": "ipython",
    "version": 3
   },
   "file_extension": ".py",
   "mimetype": "text/x-python",
   "name": "python",
   "nbconvert_exporter": "python",
   "pygments_lexer": "ipython3",
   "version": "3.11.9"
  }
 },
 "nbformat": 4,
 "nbformat_minor": 2
}
