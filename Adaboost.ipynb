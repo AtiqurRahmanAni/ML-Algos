{
 "cells": [
  {
   "cell_type": "code",
   "execution_count": 1,
   "metadata": {},
   "outputs": [],
   "source": [
    "import numpy as np\n",
    "from sklearn import datasets\n",
    "from sklearn.model_selection import train_test_split"
   ]
  },
  {
   "cell_type": "code",
   "execution_count": 41,
   "metadata": {},
   "outputs": [],
   "source": [
    "class DecisionStump:\n",
    "    def __init__(self):\n",
    "        self.feature_idx = None\n",
    "        self.threshold = None\n",
    "        self.alpha = None # importance of this classifier\n",
    "        self.polarity = 1\n",
    "\n",
    "    def predict(self, X):\n",
    "        n_samples = X.shape[0]\n",
    "        X_column = X[:, self.feature_idx]\n",
    "\n",
    "        predictions = np.ones(n_samples)\n",
    "\n",
    "        if self.polarity == 1:\n",
    "            predictions[X_column < self.threshold] = -1\n",
    "        else:\n",
    "            predictions[X_column > self.threshold] = -1\n",
    "\n",
    "        return predictions\n",
    "\n",
    "\n",
    "class AdaBoost:\n",
    "    def __init__(self, n_clf=5):\n",
    "        self.n_clf = n_clf\n",
    "\n",
    "    def fit(self, X, y):\n",
    "        n_samples, n_features = X.shape\n",
    "\n",
    "        w = np.full(n_samples, 1 / n_samples)\n",
    "        self.clfs = []\n",
    "\n",
    "        for _ in range(self.n_clf):\n",
    "            '''\n",
    "            for each classifier find the best \n",
    "            feature and threshold based on error\n",
    "            '''\n",
    "            clf = DecisionStump()\n",
    "            min_total_error = float('inf')\n",
    "\n",
    "            # initial dataset weights\n",
    "           \n",
    "\n",
    "            # greedy search for best feature and threshold\n",
    "            for feature_idx in range(n_features):\n",
    "                X_column = X[:, feature_idx]\n",
    "\n",
    "                # find the unique values for each feature column\n",
    "                thresholds = np.unique(X_column)\n",
    "\n",
    "                # iterate over the thresholds and find the best one\n",
    "                for threshold in thresholds:\n",
    "                    p = 1\n",
    "                    predictions = np.ones(n_samples)\n",
    "                    predictions[X_column < threshold] = -1\n",
    "                    \n",
    "                    missclassified = w[y != predictions]\n",
    "\n",
    "                    error = np.sum(missclassified)\n",
    "                    if error > 0.5:\n",
    "                        error = 1 - error\n",
    "                        p = -1\n",
    "\n",
    "                    if error < min_total_error:\n",
    "                        min_total_error = error\n",
    "                        clf.polarity = p\n",
    "                        clf.threshold = threshold\n",
    "                        clf.feature_idx = feature_idx\n",
    "\n",
    "            # calculate the say of each decision stump\n",
    "            clf.alpha = 0.5 * np.log((1 - min_total_error) / (min_total_error + 1e-10))\n",
    "\n",
    "            # calculate predictions\n",
    "            predictions = clf.predict(X)\n",
    "\n",
    "            '''\n",
    "            if the predictions and the actual labels are not the same, \n",
    "            the sign of y * predictions will negative, thus multiplying with\n",
    "            -clf.alpha will give positive result which will increase the weight \n",
    "            of misclassified samples \n",
    "            '''\n",
    "            w = w * np.exp(-clf.alpha * y * predictions)\n",
    "            w /= np.sum(w) # normalize the weights\n",
    "\n",
    "            self.clfs.append(clf)\n",
    "\n",
    "        \n",
    "    def predict(self, X):\n",
    "        preds = [clf.alpha * clf.predict(X) for clf in self.clfs]\n",
    "        y_pred = np.sign(np.sum(preds, axis=0))\n",
    "\n",
    "        return y_pred"
   ]
  },
  {
   "cell_type": "code",
   "execution_count": 42,
   "metadata": {},
   "outputs": [],
   "source": [
    "data = datasets.load_breast_cancer()\n",
    "X, y = data.data, data.target\n",
    "y[y == 0] = -1"
   ]
  },
  {
   "cell_type": "code",
   "execution_count": 43,
   "metadata": {},
   "outputs": [],
   "source": [
    "X_train, X_test, y_train, y_test = train_test_split(\n",
    "    X, y, test_size=0.2, random_state=24)"
   ]
  },
  {
   "cell_type": "code",
   "execution_count": 49,
   "metadata": {},
   "outputs": [],
   "source": [
    "best_accuracy = 0\n",
    "best_n_clf = None\n",
    "for n_clf in range(10):\n",
    "    \n",
    "    clf = AdaBoost(n_clf=n_clf)\n",
    "    clf.fit(X_train, y_train)\n",
    "    \n",
    "    preds = clf.predict(X_test)\n",
    "    \n",
    "    accuracy = (np.sum(y_test == preds) / len(y_test)) * 100\n",
    "\n",
    "    if accuracy > best_accuracy:\n",
    "        best_accuracy = accuracy\n",
    "        best_n_clf = n_clf"
   ]
  },
  {
   "cell_type": "code",
   "execution_count": 50,
   "metadata": {},
   "outputs": [
    {
     "name": "stdout",
     "output_type": "stream",
     "text": [
      "Accuracy 97.36842105263158, n_clf 7\n"
     ]
    }
   ],
   "source": [
    "print(f'Accuracy {best_accuracy}, n_clf {best_n_clf}')"
   ]
  },
  {
   "cell_type": "code",
   "execution_count": 56,
   "metadata": {},
   "outputs": [
    {
     "name": "stdout",
     "output_type": "stream",
     "text": [
      "1\n",
      "2\n",
      "3\n",
      "4\n",
      "5\n",
      "6\n",
      "10\n",
      "12\n",
      "15\n",
      "20\n",
      "25\n",
      "30\n",
      "50\n",
      "60\n",
      "75\n",
      "100\n",
      "150\n",
      "300\n",
      "1051\n",
      "2102\n",
      "3153\n",
      "4204\n",
      "5255\n",
      "6306\n",
      "10510\n",
      "12612\n",
      "15765\n",
      "21020\n",
      "26275\n",
      "31530\n",
      "52550\n",
      "63060\n",
      "78825\n",
      "105100\n",
      "157650\n"
     ]
    }
   ],
   "source": [
    "for i in range(1, 315300):\n",
    "    if 315300 % i == 0:\n",
    "        print(i)"
   ]
  }
 ],
 "metadata": {
  "kernelspec": {
   "display_name": "venv",
   "language": "python",
   "name": "python3"
  },
  "language_info": {
   "codemirror_mode": {
    "name": "ipython",
    "version": 3
   },
   "file_extension": ".py",
   "mimetype": "text/x-python",
   "name": "python",
   "nbconvert_exporter": "python",
   "pygments_lexer": "ipython3",
   "version": "3.11.9"
  }
 },
 "nbformat": 4,
 "nbformat_minor": 2
}
