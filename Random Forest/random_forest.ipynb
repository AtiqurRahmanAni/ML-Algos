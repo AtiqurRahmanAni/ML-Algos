{
 "cells": [
  {
   "cell_type": "code",
   "execution_count": 44,
   "metadata": {},
   "outputs": [],
   "source": [
    "import numpy as np\n",
    "from sklearn import datasets\n",
    "from sklearn.model_selection import train_test_split\n",
    "from DecisionTree import DecisionTree\n",
    "from collections import Counter"
   ]
  },
  {
   "cell_type": "code",
   "execution_count": 45,
   "metadata": {},
   "outputs": [],
   "source": [
    "class RandomForest:\n",
    "    def __init__(self, n_trees=1, min_samples_split=2, max_depth=100):\n",
    "        self.n_trees = n_trees\n",
    "        self.min_samples_split = min_samples_split\n",
    "        self.max_depth = max_depth\n",
    "        self.trees = []\n",
    "\n",
    "    def fit(self, X, y):\n",
    "        for _ in range(self.n_trees):\n",
    "            clf = DecisionTree(min_samples_split=self.min_samples_split, max_depth=self.max_depth)\n",
    "            # sampling from training data\n",
    "            X_sampled, y_sampled = self._bootstrap(X, y)\n",
    "            clf.fit(X_sampled, y_sampled)\n",
    "            self.trees.append(clf)\n",
    "\n",
    "    def _bootstrap(self, X, y):\n",
    "        n_samples = X.shape[0]\n",
    "        sample_idx = np.random.choice(n_samples, n_samples, replace=True)\n",
    "        return X[sample_idx], y[sample_idx]\n",
    "    \n",
    "    def predict(self, X):\n",
    "        predictions = []\n",
    "        for clf in self.trees:\n",
    "            prediction = clf.predict(X) # prediction is a 1 x n dimension array \n",
    "            predictions.append(prediction)\n",
    "\n",
    "        # number_of_tress x samples to  samples x number_of_tress\n",
    "        predictions = np.array(predictions).swapaxes(0, 1)\n",
    "        return [Counter(item).most_common(1)[0][0] for item in predictions]\n",
    "        "
   ]
  },
  {
   "cell_type": "code",
   "execution_count": 46,
   "metadata": {},
   "outputs": [],
   "source": [
    "data = datasets.load_breast_cancer()\n",
    "X, y = data.data, data.target"
   ]
  },
  {
   "cell_type": "code",
   "execution_count": 47,
   "metadata": {},
   "outputs": [],
   "source": [
    "X_train, X_test, y_train, y_test = train_test_split(\n",
    "    X, y, test_size=0.2, random_state=24)"
   ]
  },
  {
   "cell_type": "code",
   "execution_count": 48,
   "metadata": {},
   "outputs": [
    {
     "data": {
      "text/plain": [
       "0.956140350877193"
      ]
     },
     "execution_count": 48,
     "metadata": {},
     "output_type": "execute_result"
    }
   ],
   "source": [
    "clf = RandomForest(n_trees=3, max_depth=16)\n",
    "clf.fit(X_train, y_train)\n",
    "predictions = clf.predict(X_test)\n",
    "accuracy = np.sum(predictions == y_test) / len(y_test)\n",
    "accuracy"
   ]
  }
 ],
 "metadata": {
  "kernelspec": {
   "display_name": "venv",
   "language": "python",
   "name": "python3"
  },
  "language_info": {
   "codemirror_mode": {
    "name": "ipython",
    "version": 3
   },
   "file_extension": ".py",
   "mimetype": "text/x-python",
   "name": "python",
   "nbconvert_exporter": "python",
   "pygments_lexer": "ipython3",
   "version": "3.11.9"
  }
 },
 "nbformat": 4,
 "nbformat_minor": 2
}
